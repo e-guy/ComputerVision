{
 "cells": [
  {
   "cell_type": "markdown",
   "metadata": {
    "collapsed": true
   },
   "source": [
    "# Discription of ass1 testing"
   ]
  },
  {
   "cell_type": "markdown",
   "metadata": {},
   "source": [
    "Note, to finish the testing process, make sure you have:\n",
    "<ul>\n",
    "    <li>Environment: python + opencv</li>\n",
    "    <li>Python scripts: your program</li>\n",
    "    <li>Image sources:  &nbsp;\n",
    "    <a href=\"https://github.com/e-guy/ComputerVision/blob/master/ass1/cookies/ductile_iron0.jpg?raw=true\">ductile_iron0.jpg</a>\n",
    "    &nbsp; &nbsp;\n",
    "    <a href=\"https://github.com/e-guy/ComputerVision/blob/master/ass1/cookies/ductile_iron1.png?raw=true\">ductile_iron1.png</a>\n",
    "    </li>\n",
    "</ul>"
   ]
  },
  {
   "cell_type": "markdown",
   "metadata": {},
   "source": [
    "  "
   ]
  },
  {
   "cell_type": "markdown",
   "metadata": {},
   "source": [
    "### Step 1: Adaptive Thresholding "
   ]
  },
  {
   "cell_type": "markdown",
   "metadata": {},
   "source": [
    " (i) Implement Otsu’s method to find a good threshold to generate a binary image."
   ]
  },
  {
   "cell_type": "markdown",
   "metadata": {
    "collapsed": true
   },
   "source": [
    "Test sample 11:\n",
    "\n",
    "<table style=\"width:100%;\">\n",
    "<tr>\n",
    "<th>Command:</th>\n",
    "<td colspan=\"2\">python otsu_threshold.py --input ductile_iron0.jpg --output binary_11.png --threshold</td>\n",
    "</tr>\n",
    "<tbody>\n",
    "<tr>\n",
    "<th>Output of std</th>\n",
    "<td>143</td>\n",
    "<td>note: this can be others based on how you treat the intermediate level of pixel intensity</td>\n",
    "</tr>\n",
    "<tr>\n",
    "<th>Output of file</th>\n",
    "<td>binary_11.png</td>\n",
    "<td></td>\n",
    "</tr>\n",
    "</tbody>\n",
    "</table>\n",
    "\n",
    "<table style=\"width:100%;\">\n",
    "<tr>\n",
    "<td ><img alt=\"ductile_iron0.jpg\" src=\"https://github.com/e-guy/ComputerVision/blob/master/ass1/cookies/ductile_iron0.jpg?raw=true\" style=\"width:150px;\"/><div>ductile_iron0.jpg</div></td>\n",
    "<td ><img alt=\"binary_11.png\" src=\"https://github.com/e-guy/ComputerVision/blob/master/ass1/cookies/binary_11.png?raw=true\" style=\"width:150px;\"/><div>binary_11.png</div></td>\n",
    "</tr>\n",
    "</table>"
   ]
  },
  {
   "cell_type": "markdown",
   "metadata": {
    "collapsed": true
   },
   "source": [
    "Test sample 12:\n",
    "<table style=\"width:100%\">\n",
    "<thead>\n",
    "<tr>\n",
    "<th>Command:</th>\n",
    "<td colspan=\"2\">python otsu_threshold.py --input ductile_iron1.png --output binary_12.png --threshold</td>\n",
    "</tr>\n",
    "</thead>\n",
    "<tbody>\n",
    "<tr>\n",
    "<th>Output of STD</th>\n",
    "<td>140</td>\n",
    "<td>note: this can be others based on how you treat the intermediate level of pixel intensity</td>\n",
    "</tr>\n",
    "<tr>\n",
    "<th>Output of file</th>\n",
    "<td>binary_12.png</td>\n",
    "<td></td>\n",
    "</tr>\n",
    "</tbody>\n",
    "</table>\n",
    "\n",
    "<table style=\"width:100%;\">\n",
    "<tr>\n",
    "<td ><img alt=\"ductile_iron1.png\" src=\"https://raw.githubusercontent.com/e-guy/ComputerVision/master/ass1/cookies/ductile_iron1.png\" style=\"width:150px;\"/><div>ductile_iron1.png</div></td>\n",
    "<td ><img alt=\"binary_12.png\" src=\"https://raw.githubusercontent.com/e-guy/ComputerVision/master/ass1/cookies/binary_12.png\" style=\"width:150px;\"/><div>binary_12.png</div></td>\n",
    "</tr>\n",
    "</table>"
   ]
  },
  {
   "cell_type": "markdown",
   "metadata": {},
   "source": [
    " "
   ]
  },
  {
   "cell_type": "markdown",
   "metadata": {},
   "source": [
    " (ii) Split the image into a grid of cells of given size and then apply Otsu's method on each cell treating it as a separate image (and presuming a bi-modal histogram). If a subimage cannot be thresholded well, then the threshold from one of the neighbouring cells can be used. Use the same encoding of 0/255 for nodules/background as before."
   ]
  },
  {
   "cell_type": "markdown",
   "metadata": {},
   "source": [
    "Test sample 13:\n",
    "<table style=\"width:100%\">\n",
    "<thead>\n",
    "<tr>\n",
    "<th>Command:</th>\n",
    "<td colspan=\"2\">python grid_otsu_threshold.py  --input ductile_iron0.jpg 2 --output binary_13.png</td>\n",
    "</tr>\n",
    "</thead>\n",
    "<tbody>\n",
    "<tr>\n",
    "<th>Output of file</th>\n",
    "<td>binary_13.png</td>\n",
    "<td>note: this can be different based on how you split your image (here, i split it horizontally)</td>\n",
    "</tr>\n",
    "</tbody>\n",
    "</table>\n",
    "\n",
    "<table style=\"width:100%;\">\n",
    "<tr>\n",
    "<td ><img alt=\"ductile_iron0.jpg\" src=\"https://raw.githubusercontent.com/e-guy/ComputerVision/master/ass1/cookies/ductile_iron0.jpg\" style=\"width:150px;\"/><div>ductile_iron0.jpg</div></td>\n",
    "<td ><img alt=\"binary_13.png\" src=\"https://raw.githubusercontent.com/e-guy/ComputerVision/master/ass1/cookies/binary_13.png\" style=\"width:150px;\"/><div>binary_13.png</div></td>\n",
    "</tr>\n",
    "</table>"
   ]
  },
  {
   "cell_type": "markdown",
   "metadata": {
    "collapsed": true
   },
   "source": [
    "Test sample 14:\n",
    "<table style=\"width:100%\">\n",
    "<thead>\n",
    "<tr>\n",
    "<th>Command:</th>\n",
    "<td colspan=\"2\">python grid_otsu_threshold.py  --input ductile_iron1.png 2 --output binary_14.png</td>\n",
    "</tr>\n",
    "</thead>\n",
    "<tbody>\n",
    "<tr>\n",
    "<th>Output of file</th>\n",
    "<td>binary_14.png</td>\n",
    "<td>note: this can be different based on how you split your image (here, i split it horizontally)</td>\n",
    "</tr>\n",
    "</tbody>\n",
    "</table>\n",
    "\n",
    "<table style=\"width:100%;\">\n",
    "<tr>\n",
    "<td ><img alt=\"ductile_iron1.png\" src=\"https://raw.githubusercontent.com/e-guy/ComputerVision/master/ass1/cookies/ductile_iron1.png\" style=\"width:150px;\"/><div>ductile_iron1.png</div></td>\n",
    "<td ><img alt=\"binary_14.png\" src=\"https://raw.githubusercontent.com/e-guy/ComputerVision/master/ass1/cookies/binary_14.png\" style=\"width:150px;\"/><div>binary_14.png</div></td>\n",
    "</tr>\n",
    "</table>"
   ]
  },
  {
   "cell_type": "markdown",
   "metadata": {},
   "source": [
    " "
   ]
  },
  {
   "cell_type": "markdown",
   "metadata": {},
   "source": [
    " (iii) It may be necessary to apply some morphological operators or filtering to get good results in Step 2. Without such preprocessing, noisy pixels may affect the segment quality and quantity. You are encouraged to try different operators in OpenCV for this purpose."
   ]
  },
  {
   "cell_type": "markdown",
   "metadata": {},
   "source": [
    "Test sample 15:\n",
    "<table style=\"width:100%\">\n",
    "<thead>\n",
    "<tr>\n",
    "<th>Command:</th>\n",
    "<td colspan=\"2\">python filter.py  --input ductile_iron0.jpg 2 --output binary_15.png</td>\n",
    "</tr>\n",
    "</thead>\n",
    "<tbody>\n",
    "<tr>\n",
    "<th>Output of file</th>\n",
    "<td>binary_15.png</td>\n",
    "<td>note: this can be different based on how you optimize your original image</td>\n",
    "</tr>\n",
    "</tbody>\n",
    "</table>\n",
    "\n",
    "<table style=\"width:100%;\">\n",
    "<tr>\n",
    "<td ><img alt=\"ductile_iron0.jpg\" src=\"https://raw.githubusercontent.com/e-guy/ComputerVision/master/ass1/cookies/ductile_iron0.jpg\" style=\"width:150px;\"/><div>ductile_iron0.jpg</div></td>\n",
    "<td ><img alt=\"binary_15.png\" src=\"https://raw.githubusercontent.com/e-guy/ComputerVision/master/ass1/cookies/binary_15.png\" style=\"width:150px;\"/><div>binary_15.png</div></td>\n",
    "</tr>\n",
    "</table>"
   ]
  },
  {
   "cell_type": "markdown",
   "metadata": {
    "collapsed": true
   },
   "source": [
    "Test sample 16:\n",
    "<table style=\"width:100%\">\n",
    "<thead>\n",
    "<tr>\n",
    "<th>Command:</th>\n",
    "<td colspan=\"2\">python filter.py  --input ductile_iron1.png 2 --output binary_16.png</td>\n",
    "</tr>\n",
    "</thead>\n",
    "<tbody>\n",
    "<tr>\n",
    "<th>Output of file</th>\n",
    "<td>binary_16.png</td>\n",
    "<td>note: this can be different based on how you optimize your original image</td>\n",
    "</tr>\n",
    "</tbody>\n",
    "</table>\n",
    "\n",
    "<table style=\"width:100%;\">\n",
    "<tr>\n",
    "<td ><img alt=\"ductile_iron1.png\" src=\"https://raw.githubusercontent.com/e-guy/ComputerVision/master/ass1/cookies/ductile_iron1.png\" style=\"width:150px;\"/><div>ductile_iron1.png</div></td>\n",
    "<td ><img alt=\"binary_16.png\" src=\"https://raw.githubusercontent.com/e-guy/ComputerVision/master/ass1/cookies/binary_16.png\" style=\"width:150px;\"/><div>binary_16.png</div></td>\n",
    "</tr>\n",
    "</table>"
   ]
  },
  {
   "cell_type": "markdown",
   "metadata": {},
   "source": [
    "  \n",
    "   "
   ]
  },
  {
   "cell_type": "markdown",
   "metadata": {},
   "source": [
    "### Step 2: Nodule counting using 4-neighbourhood "
   ]
  },
  {
   "cell_type": "markdown",
   "metadata": {
    "collapsed": true
   },
   "source": [
    "\n",
    "Test sample 21:\n",
    "\n",
    "<table style=\"width:100%;\">\n",
    "<tr>\n",
    "<th>Command:</th>\n",
    "<td colspan=\"2\">python count_nodules4.py --input binary_11.png --size 200 --optional_output noduals_21.png</td>\n",
    "</tr>\n",
    "<tbody>\n",
    "<tr>\n",
    "<th>Output of std</th>\n",
    "<td>56</td>\n",
    "<td></td>\n",
    "</tr>\n",
    "<tr>\n",
    "<th>Output of file</th>\n",
    "<td>noduals_21.png</td>\n",
    "<td></td>\n",
    "</tr>\n",
    "</tbody>\n",
    "</table>\n",
    "\n",
    "<table style=\"width:100%;\">\n",
    "<tr>\n",
    "<td ><img alt=\"binary_11.png\" src=\"https://github.com/e-guy/ComputerVision/blob/master/ass1/cookies/binary_11.png?raw=true\" style=\"width:150px;\"/><div>binary_11.png</div></td>\n",
    "<td ><img alt=\"noduals_21.png\" src=\"https://github.com/e-guy/ComputerVision/blob/master/ass1/cookies/noduals_21.png?raw=true\" style=\"width:150px;\"/><div>noduals_21.png</div></td>\n",
    "</tr>\n",
    "</table>"
   ]
  },
  {
   "cell_type": "markdown",
   "metadata": {},
   "source": [
    "\n",
    "Test sample 22:\n",
    "\n",
    "<table style=\"width:100%;\">\n",
    "<tr>\n",
    "<th>Command:</th>\n",
    "<td colspan=\"2\">python count_nodules4.py --input binary_15.png --size 200 --optional_output noduals_22.png</td>\n",
    "</tr>\n",
    "<tbody>\n",
    "<tr>\n",
    "<th>Output of std</th>\n",
    "<td>53</td>\n",
    "<td></td>\n",
    "</tr>\n",
    "<tr>\n",
    "<th>Output of file</th>\n",
    "<td>noduals_22.png</td>\n",
    "<td></td>\n",
    "</tr>\n",
    "</tbody>\n",
    "</table>\n",
    "\n",
    "<table style=\"width:100%;\">\n",
    "<tr>\n",
    "<td ><img alt=\"binary_15.png\" src=\"https://github.com/e-guy/ComputerVision/blob/master/ass1/cookies/binary_15.png?raw=true\" style=\"width:150px;\"/><div>binary_15.png</div></td>\n",
    "<td ><img alt=\"noduals_22.png\" src=\"https://github.com/e-guy/ComputerVision/blob/master/ass1/cookies/noduals_22.png?raw=true\" style=\"width:150px;\"/><div>noduals_22.png</div></td>\n",
    "</tr>\n",
    "</table>"
   ]
  },
  {
   "cell_type": "markdown",
   "metadata": {},
   "source": [
    "\n",
    "Test sample 23:\n",
    "\n",
    "<table style=\"width:100%;\">\n",
    "<tr>\n",
    "<th>Command:</th>\n",
    "<td colspan=\"2\">python count_nodules4.py --input binary_15.png --size 500 --optional_output noduals_23.png</td>\n",
    "</tr>\n",
    "<tbody>\n",
    "<tr>\n",
    "<th>Output of std</th>\n",
    "<td>16</td>\n",
    "<td></td>\n",
    "</tr>\n",
    "<tr>\n",
    "<th>Output of file</th>\n",
    "<td>noduals_23.png</td>\n",
    "<td></td>\n",
    "</tr>\n",
    "</tbody>\n",
    "</table>\n",
    "\n",
    "<table style=\"width:100%;\">\n",
    "<tr>\n",
    "<td ><img alt=\"binary_15.png\" src=\"https://github.com/e-guy/ComputerVision/blob/master/ass1/cookies/binary_15.png?raw=true\" style=\"width:150px;\"/><div>binary_15.png</div></td>\n",
    "<td ><img alt=\"noduals_23.png\" src=\"https://github.com/e-guy/ComputerVision/blob/master/ass1/cookies/noduals_23.png?raw=true\" style=\"width:150px;\"/><div>noduals_23.png</div></td>\n",
    "</tr>\n",
    "</table>"
   ]
  },
  {
   "cell_type": "markdown",
   "metadata": {},
   "source": [
    "  "
   ]
  },
  {
   "cell_type": "markdown",
   "metadata": {},
   "source": [
    "### Step 3 (OPTIONAL): Nodule counting using 8-neighbourhood"
   ]
  },
  {
   "cell_type": "markdown",
   "metadata": {
    "collapsed": true
   },
   "source": [
    "\n",
    "Test sample 31:\n",
    "\n",
    "<table style=\"width:100%;\">\n",
    "<tr>\n",
    "<th>Command:</th>\n",
    "<td colspan=\"2\">python count_nodules8.py --input binary_15.png --size 200 --optional_output noduals_31.png</td>\n",
    "</tr>\n",
    "<tbody>\n",
    "<tr>\n",
    "<th>Output of std</th>\n",
    "<td>53</td>\n",
    "<td></td>\n",
    "</tr>\n",
    "<tr>\n",
    "<th>Output of file</th>\n",
    "<td>noduals_31.png</td>\n",
    "<td></td>\n",
    "</tr>\n",
    "</tbody>\n",
    "</table>\n",
    "\n",
    "<table style=\"width:100%;\">\n",
    "<tr>\n",
    "<td ><img alt=\"binary_15.png\" src=\"https://github.com/e-guy/ComputerVision/blob/master/ass1/cookies/binary_15.png?raw=true\" style=\"width:150px;\"/><div>binary_15.png</div></td>\n",
    "<td ><img alt=\"noduals_31.png\" src=\"https://github.com/e-guy/ComputerVision/blob/master/ass1/cookies/noduals_31.png?raw=true\" style=\"width:150px;\"/><div>noduals_31.png</div></td>\n",
    "</tr>\n",
    "</table>"
   ]
  },
  {
   "cell_type": "markdown",
   "metadata": {},
   "source": [
    " "
   ]
  },
  {
   "cell_type": "markdown",
   "metadata": {},
   "source": [
    " "
   ]
  },
  {
   "cell_type": "markdown",
   "metadata": {},
   "source": [
    " "
   ]
  }
 ],
 "metadata": {
  "kernelspec": {
   "display_name": "Python 3",
   "language": "python",
   "name": "python3"
  },
  "language_info": {
   "codemirror_mode": {
    "name": "ipython",
    "version": 3
   },
   "file_extension": ".py",
   "mimetype": "text/x-python",
   "name": "python",
   "nbconvert_exporter": "python",
   "pygments_lexer": "ipython3",
   "version": "3.6.2"
  }
 },
 "nbformat": 4,
 "nbformat_minor": 2
}
