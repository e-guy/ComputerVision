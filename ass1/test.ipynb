{
 "cells": [
  {
   "cell_type": "markdown",
   "metadata": {
    "collapsed": true
   },
   "source": [
    "# Discription of ass1 testing"
   ]
  },
  {
   "cell_type": "markdown",
   "metadata": {},
   "source": [
    "<br>"
   ]
  },
  {
   "cell_type": "markdown",
   "metadata": {},
   "source": [
    "### Step 1: Adaptive Thresholding "
   ]
  },
  {
   "cell_type": "markdown",
   "metadata": {},
   "source": [
    " (i) Implement Otsu’s method to find a good threshold to generate a binary image."
   ]
  },
  {
   "cell_type": "markdown",
   "metadata": {
    "collapsed": true
   },
   "source": [
    "Test sample 1:\n",
    "\n",
    "<table style=\"width:100%;\">\n",
    "<tr>\n",
    "<th>Command:</th>\n",
    "<td colspan=\"2\">python otsu_threshold.py --input ductile_iron2-0.jpg --output binary_11.png --threshold</td>\n",
    "</tr>\n",
    "<tbody>\n",
    "<tr>\n",
    "<th>Output of std</th>\n",
    "<td>143</td>\n",
    "<td>note: this can be others based on how you treat the intermediate level of pixel intensity</td>\n",
    "</tr>\n",
    "<tr>\n",
    "<th>Output of file</th>\n",
    "<td>binary_11.png</td>\n",
    "<td></td>\n",
    "</tr>\n",
    "</tbody>\n",
    "</table>\n",
    "\n",
    "<table style=\"width:100%;\">\n",
    "<tr>\n",
    "<td ><img alt=\"ductile_iron2-0.jpg\" src=\"https://github.com/e-guy/ComputerVision/blob/master/ass1/cookie/ductile_iron2-0.jpg?raw=true\" style=\"width:150px;\"/><div>ductile_iron2-0.jpg</div></td>\n",
    "<td ><img alt=\"ductile_iron2-0.jpg\" src=\"https://github.com/e-guy/ComputerVision/blob/master/ass1/cookie/binary_11.png?raw=true\" style=\"width:150px;\"/><div>binary_11.png</div></td>\n",
    "</tr>\n",
    "</table>"
   ]
  },
  {
   "cell_type": "markdown",
   "metadata": {
    "collapsed": true
   },
   "source": [
    "Test sample 2:\n",
    "<table style=\"width:100%\">\n",
    "<thead>\n",
    "<tr>\n",
    "<th>command:</th>\n",
    "<th colspan=\"2\">python otsu_threshold.py --input 0.png --output binary_12.png --threshold</th>\n",
    "</tr>\n",
    "</thead>\n",
    "<tbody>\n",
    "<tr>\n",
    "<td>Output of STD</td>\n",
    "<td>147</td>\n",
    "<td>note: this can be others based on how you treat the intermediate level of pixel intensity</td>\n",
    "</tr>\n",
    "<tr>\n",
    "<td>Output of file</td>\n",
    "<td>binary_12.png</td>\n",
    "<td></td>\n",
    "</tr>\n",
    "</tbody>\n",
    "</table>\n",
    "\n",
    "<table>\n",
    "<th>\n",
    "<td><img alt=\"0.png\" src=\"https://raw.githubusercontent.com/e-guy/ComputerVision/master/ass1/cookie/0.png\" style=\"width:150px;\"/><div>0.png</div></td>\n",
    "</th>\n",
    "<th>\n",
    "<td><img alt=\"ductile_iron2-0.jpg\" src=\"https://raw.githubusercontent.com/e-guy/ComputerVision/blob/master/ass1/cookie/binary_12.png?raw=true\" style=\"width:150px;S\"/><div>binary_12.png</div></td>\n",
    "</th>\n",
    "</table>"
   ]
  },
  {
   "cell_type": "code",
   "execution_count": null,
   "metadata": {
    "collapsed": true
   },
   "outputs": [],
   "source": []
  },
  {
   "cell_type": "markdown",
   "metadata": {},
   "source": [
    " "
   ]
  },
  {
   "cell_type": "markdown",
   "metadata": {},
   "source": [
    " (ii) Split the image into a grid of cells of given size and then apply Otsu's method on each cell treating it as a separate image (and presuming a bi-modal histogram). If a subimage cannot be thresholded well, then the threshold from one of the neighbouring cells can be used. Use the same encoding of 0/255 for nodules/background as before."
   ]
  },
  {
   "cell_type": "markdown",
   "metadata": {
    "collapsed": true
   },
   "source": [
    "python grid_otsu_threshold.py --input input.png n --output binary.png"
   ]
  },
  {
   "cell_type": "markdown",
   "metadata": {},
   "source": [
    " "
   ]
  },
  {
   "cell_type": "markdown",
   "metadata": {},
   "source": [
    " (iii) It may be necessary to apply some morphological operators or filtering to get good results in Step 2. Without such preprocessing, noisy pixels may affect the segment quality and quantity. You are encouraged to try different operators in OpenCV for this purpose."
   ]
  },
  {
   "cell_type": "markdown",
   "metadata": {
    "collapsed": true
   },
   "source": [
    "<hr>"
   ]
  },
  {
   "cell_type": "markdown",
   "metadata": {},
   "source": [
    "  \n",
    "   "
   ]
  },
  {
   "cell_type": "markdown",
   "metadata": {},
   "source": [
    "### Step 2: Nodule counting using 4-neighbourhood "
   ]
  },
  {
   "cell_type": "code",
   "execution_count": null,
   "metadata": {
    "collapsed": true
   },
   "outputs": [],
   "source": []
  },
  {
   "cell_type": "markdown",
   "metadata": {},
   "source": [
    "  "
   ]
  },
  {
   "cell_type": "markdown",
   "metadata": {},
   "source": [
    "### Step 3 (OPTIONAL): Nodule counting using 8-neighbourhood"
   ]
  },
  {
   "cell_type": "code",
   "execution_count": null,
   "metadata": {
    "collapsed": true
   },
   "outputs": [],
   "source": []
  }
 ],
 "metadata": {
  "kernelspec": {
   "display_name": "Python 3",
   "language": "python",
   "name": "python3"
  },
  "language_info": {
   "codemirror_mode": {
    "name": "ipython",
    "version": 3
   },
   "file_extension": ".py",
   "mimetype": "text/x-python",
   "name": "python",
   "nbconvert_exporter": "python",
   "pygments_lexer": "ipython3",
   "version": "3.6.2"
  }
 },
 "nbformat": 4,
 "nbformat_minor": 2
}
